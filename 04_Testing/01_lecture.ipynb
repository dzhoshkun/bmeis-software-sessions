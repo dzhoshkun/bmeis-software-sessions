{
 "cells": [
  {
   "cell_type": "markdown",
   "metadata": {
    "slideshow": {
     "slide_type": "slide"
    }
   },
   "source": [
    "## <center>BMEIS Workshops</center>\n",
    "\n",
    "# <center>Testing</center>\n",
    "\n",
    "### <center>Eric Kerfoot, Ben Murray, Marc Modat</center>\n",
    "### <center>School of Biomedical Engineering & Imaging Sciences</center>\n",
    "### <center>King's College London</center>"
   ]
  },
  {
   "cell_type": "markdown",
   "metadata": {
    "slideshow": {
     "slide_type": "slide"
    }
   },
   "source": [
    "# Testing\n",
    "\n",
    "\n",
    "## Aim:\n",
    "* Learn the basic concepts and processes behind testing, unit testing, and test driven development"
   ]
  },
  {
   "cell_type": "markdown",
   "metadata": {
    "slideshow": {
     "slide_type": "slide"
    }
   },
   "source": [
    "## What We'll Cover\n",
    "* Basic Testing Idea\n",
    "  * Why we test, need for demonstrable correctness, increase confidence in code, minimize costs associated with failure\n",
    "  * Designing for testability\n",
    "  * Error, fault, failure\n",
    "  * Test driven development, test-orientation\n",
    "  \n",
    "* Unit Tests\n",
    "  * What is meant to be tested\n",
    "  * Cases, suite, framework\n",
    "  * Equivalent tests   "
   ]
  },
  {
   "cell_type": "markdown",
   "metadata": {
    "slideshow": {
     "slide_type": "slide"
    }
   },
   "source": [
    "### Why test?\n",
    "\n",
    "* Formal way of quantifying correctness\n",
    "* Defines criteria for correctness which software should meet\n",
    "* Need to show correctness, increase confidence in code\n",
    "* Decreases cost of failure\n",
    "* **\"Testing shows the presence, not the absence of bugs\"** <br/>- Edsger Dijkstra"
   ]
  },
  {
   "cell_type": "markdown",
   "metadata": {
    "slideshow": {
     "slide_type": "slide"
    }
   },
   "source": [
    "### Basic example: Testing Output"
   ]
  },
  {
   "cell_type": "code",
   "execution_count": 1,
   "metadata": {
    "slideshow": {
     "slide_type": "fragment"
    }
   },
   "outputs": [],
   "source": [
    "def sqrt(a):\n",
    "    return a ** 0.5\n",
    "\n",
    "if sqrt(4) != 2: # simple test\n",
    "    raise ValueError('Bad value!')"
   ]
  },
  {
   "cell_type": "markdown",
   "metadata": {
    "slideshow": {
     "slide_type": "slide"
    }
   },
   "source": [
    "#### Software specification\n",
    "\n",
    "* Defines the requirements for the software being developed\n",
    "* Contains functional and other criteria the software must meet to be considered successful\n",
    "* Correctness is always one of these, hard to assert any others are met if not correct\n",
    "* Many requirements define what tests should be run, these are used to demonstrate the specification is met"
   ]
  },
  {
   "cell_type": "markdown",
   "metadata": {
    "slideshow": {
     "slide_type": "slide"
    }
   },
   "source": [
    "* **Error**: When the behaviour of the program differs from that stated in the specification\n",
    "* **Fault**: What component in the software caused the error to occur (ie. defective code or \"bug\")\n",
    "* **Failure**: When the software cannot perform its specified function\n",
    "----\n",
    "\n",
    "### Testing Objective:  <font color=\"red\">Identify faults by detecting when errors occur to minimize the frequency and cost of failure</font>"
   ]
  },
  {
   "cell_type": "markdown",
   "metadata": {
    "slideshow": {
     "slide_type": "slide"
    }
   },
   "source": [
    "### Design for testability\n",
    "\n",
    "* Develop code and systems to be composed of testable units\n",
    "* Encourages good practice by enforcing the notion of modularity and composition of components\n",
    "* Discourages defining software which is hard to show is correct or meets specification\n",
    "* Testable code tends to be maintainable and well designed"
   ]
  },
  {
   "cell_type": "markdown",
   "metadata": {
    "slideshow": {
     "slide_type": "slide"
    }
   },
   "source": [
    "### Asserting correctness\n",
    "\n",
    "* Python includes an `assert` statement to check a condition is true at runtime\n",
    "* Used to ensure internal algorithm state is correct at certain stages\n",
    "* Not used to check external input or other conditions beyond the definition of the algorithm\n",
    "* Syntax: `assert C [,message]`: throws an exception is `C` evaluates to False with `message` as the exception message"
   ]
  },
  {
   "cell_type": "code",
   "execution_count": 2,
   "metadata": {
    "slideshow": {
     "slide_type": "slide"
    }
   },
   "outputs": [
    {
     "data": {
      "text/plain": [
       "5"
      ]
     },
     "execution_count": 2,
     "metadata": {},
     "output_type": "execute_result"
    }
   ],
   "source": [
    "def binary_search(items,item):\n",
    "    first, last = 0, len(items) - 1\n",
    "    mid = last // 2\n",
    "    \n",
    "    while first <= last and items[mid] != item :\n",
    "        mid = (first + last) // 2\n",
    "        \n",
    "        assert 0 <= mid < len(items), '`mid` out of bounds!'\n",
    "        \n",
    "        if item < items[mid]:\n",
    "            last = mid - 1\n",
    "        else:\n",
    "            first = mid + 1\n",
    "                \n",
    "    return mid\n",
    "\n",
    "binary_search([1,3,4,6,7,12,18,25],12)"
   ]
  },
  {
   "cell_type": "markdown",
   "metadata": {
    "slideshow": {
     "slide_type": "slide"
    }
   },
   "source": [
    "* We use assertions to show algorithms are behaving as expected\n",
    "* Can be turned off at runtime for efficiency\n",
    "* Doesn't test the whole algorithm/routine/module\n",
    "* Unit tests are the common method for doing this instead"
   ]
  },
  {
   "cell_type": "markdown",
   "metadata": {
    "slideshow": {
     "slide_type": "slide"
    }
   },
   "source": [
    "## Unit Testing\n",
    "\n",
    "* A unit test is a simple routine/program to test a property of a small unit of code\n",
    "* **Test case**: a set of inputs and expected outputs to test one of these small units\n",
    "* **Test Suite**: a set of test cases for a routine/module/system\n",
    "* **Test Framework/Harness**: supporting software environment around test suites which provide services to facilitate the testing process"
   ]
  },
  {
   "cell_type": "markdown",
   "metadata": {
    "slideshow": {
     "slide_type": "slide"
    }
   },
   "source": [
    "### Test Case\n",
    "* Components:\n",
    "  * Tested code unit\n",
    "  * Test input data\n",
    "  * Expected output data\n",
    "  * Comparison criteria to assess actual output in relation to expected output"
   ]
  },
  {
   "cell_type": "markdown",
   "metadata": {
    "slideshow": {
     "slide_type": "slide"
    }
   },
   "source": [
    "* Eg. Simple function calculating the square root of a given float:"
   ]
  },
  {
   "cell_type": "code",
   "execution_count": 3,
   "metadata": {
    "slideshow": {
     "slide_type": "fragment"
    }
   },
   "outputs": [],
   "source": [
    "def sqrt(a):\n",
    "    return a ** 0.5"
   ]
  },
  {
   "cell_type": "markdown",
   "metadata": {
    "slideshow": {
     "slide_type": "fragment"
    }
   },
   "source": [
    "* Need values for `a` which demonstrate `sqrt` returns the correct result\n",
    "* Need other values to demonstrate it will handle incorrect values appropriately"
   ]
  },
  {
   "cell_type": "markdown",
   "metadata": {
    "slideshow": {
     "slide_type": "slide"
    }
   },
   "source": [
    "* We'll use `unittest` standard library to define our test cases:"
   ]
  },
  {
   "cell_type": "code",
   "execution_count": 4,
   "metadata": {
    "slideshow": {
     "slide_type": "fragment"
    }
   },
   "outputs": [
    {
     "name": "stderr",
     "output_type": "stream",
     "text": [
      ".\n",
      "----------------------------------------------------------------------\n",
      "Ran 1 test in 0.005s\n",
      "\n",
      "OK\n"
     ]
    },
    {
     "data": {
      "text/plain": [
       "<unittest.main.TestProgram at 0x5a5d710>"
      ]
     },
     "execution_count": 4,
     "metadata": {},
     "output_type": "execute_result"
    }
   ],
   "source": [
    "import unittest\n",
    "\n",
    "class SqrtTests(unittest.TestCase): # harness class\n",
    "    def test_correct1(self): # actual test case\n",
    "        b = sqrt(4) # input data is 4\n",
    "        self.assertEqual(b, 2) # expected output is 2\n",
    "        \n",
    "unittest.main(argv=['ignored'], exit=False) # needed for Jupyter"
   ]
  },
  {
   "cell_type": "markdown",
   "metadata": {
    "slideshow": {
     "slide_type": "slide"
    }
   },
   "source": [
    "* What does this show?\n",
    "* For one correct input `sqrt` behaved correctly\n",
    "* What about any other correct inputs? What correct inputs wouldn't be equivalent to `4`?\n",
    "* Consider the edge cases for this function, eg. `0`"
   ]
  },
  {
   "cell_type": "code",
   "execution_count": 5,
   "metadata": {
    "slideshow": {
     "slide_type": "slide"
    }
   },
   "outputs": [
    {
     "name": "stderr",
     "output_type": "stream",
     "text": [
      ".\n",
      "----------------------------------------------------------------------\n",
      "Ran 1 test in 0.001s\n",
      "\n",
      "OK\n"
     ]
    },
    {
     "data": {
      "text/plain": [
       "<unittest.main.TestProgram at 0x5ac5a20>"
      ]
     },
     "execution_count": 5,
     "metadata": {},
     "output_type": "execute_result"
    }
   ],
   "source": [
    "import unittest\n",
    "\n",
    "class SqrtTests(unittest.TestCase): # harness class\n",
    "    def test_correct1(self): # actual test case\n",
    "        b = sqrt(0) # input data is 4\n",
    "        self.assertEqual(b, 0) # expected output is 2\n",
    "        \n",
    "unittest.main(argv=['ignored'], exit=False) "
   ]
  },
  {
   "cell_type": "markdown",
   "metadata": {
    "slideshow": {
     "slide_type": "slide"
    }
   },
   "source": [
    "* What about negative inputs?"
   ]
  },
  {
   "cell_type": "code",
   "execution_count": 6,
   "metadata": {
    "slideshow": {
     "slide_type": "fragment"
    }
   },
   "outputs": [
    {
     "name": "stderr",
     "output_type": "stream",
     "text": [
      "F\n",
      "======================================================================\n",
      "FAIL: testNegative1 (__main__.SqrtTests)\n",
      "----------------------------------------------------------------------\n",
      "Traceback (most recent call last):\n",
      "  File \"<ipython-input-6-213e4ac906ef>\", line 5, in testNegative1\n",
      "    self.assertEqual(b, -2)\n",
      "AssertionError: (1.2246467991473532e-16+2j) != -2\n",
      "\n",
      "----------------------------------------------------------------------\n",
      "Ran 1 test in 0.002s\n",
      "\n",
      "FAILED (failures=1)\n"
     ]
    },
    {
     "data": {
      "text/plain": [
       "<unittest.main.TestProgram at 0x5ac5d30>"
      ]
     },
     "execution_count": 6,
     "metadata": {},
     "output_type": "execute_result"
    }
   ],
   "source": [
    "class SqrtTests(unittest.TestCase): \n",
    "    def test_negative1(self): \n",
    "        b = sqrt(-4) # input data is -4\n",
    "        # expected output is -2 (bear with me on this one)\n",
    "        self.assertEqual(b, -2) \n",
    "        \n",
    "unittest.main(argv=['ignored'], exit=False)"
   ]
  },
  {
   "cell_type": "markdown",
   "metadata": {
    "slideshow": {
     "slide_type": "slide"
    }
   },
   "source": [
    "* Returning a complex number is numerically correct, but is this what we wanted?\n",
    "* If `sqrt` was supposed to operate only on real numbers this constitutes an error and a fault exists\n",
    "* The fault could be the lack of input sanitation:"
   ]
  },
  {
   "cell_type": "code",
   "execution_count": 7,
   "metadata": {
    "slideshow": {
     "slide_type": "fragment"
    }
   },
   "outputs": [],
   "source": [
    "def sqrt(a):\n",
    "    if a<0: # remember, don't use assert to do this\n",
    "        raise ValueError('Negative value for `a`')\n",
    "        \n",
    "    return a ** 0.5"
   ]
  },
  {
   "cell_type": "markdown",
   "metadata": {
    "slideshow": {
     "slide_type": "slide"
    }
   },
   "source": [
    "* Now our test is to show the exception is raised under the correct conditions:"
   ]
  },
  {
   "cell_type": "code",
   "execution_count": 8,
   "metadata": {
    "slideshow": {
     "slide_type": "fragment"
    }
   },
   "outputs": [
    {
     "name": "stderr",
     "output_type": "stream",
     "text": [
      ".\n",
      "----------------------------------------------------------------------\n",
      "Ran 1 test in 0.001s\n",
      "\n",
      "OK\n"
     ]
    },
    {
     "data": {
      "text/plain": [
       "<unittest.main.TestProgram at 0x5ade400>"
      ]
     },
     "execution_count": 8,
     "metadata": {},
     "output_type": "execute_result"
    }
   ],
   "source": [
    "class SqrtTests(unittest.TestCase): \n",
    "    def test_negative1(self): \n",
    "        with self.assertRaises(ValueError): # exception caught here\n",
    "            b = sqrt(-4) \n",
    "        \n",
    "unittest.main(argv=['ignored'], exit=False)"
   ]
  },
  {
   "cell_type": "markdown",
   "metadata": {
    "slideshow": {
     "slide_type": "fragment"
    }
   },
   "source": [
    "* What about complex input? Positive or negative infinity? NaN?\n",
    "* Answer: write more test cases!\n"
   ]
  },
  {
   "cell_type": "markdown",
   "metadata": {
    "slideshow": {
     "slide_type": "slide"
    }
   },
   "source": [
    "* Test harnesses are used to setup and tear down the testing environment test cases may require:"
   ]
  },
  {
   "cell_type": "code",
   "execution_count": 9,
   "metadata": {
    "slideshow": {
     "slide_type": "fragment"
    }
   },
   "outputs": [
    {
     "name": "stderr",
     "output_type": "stream",
     "text": [
      ".\n",
      "----------------------------------------------------------------------\n",
      "Ran 1 test in 0.001s\n",
      "\n",
      "OK\n"
     ]
    },
    {
     "data": {
      "text/plain": [
       "<unittest.main.TestProgram at 0x5b66b70>"
      ]
     },
     "execution_count": 9,
     "metadata": {},
     "output_type": "execute_result"
    }
   ],
   "source": [
    "class SqrtTests(unittest.TestCase):\n",
    "    def setUp(self):\n",
    "        self.correctValues=[0,1,4,3,100,3.14159]\n",
    "        self.correctOutputs=[0,1,2,1.732,10,1.772]\n",
    "        \n",
    "    def tearDown(self):\n",
    "        pass # close file handles, delete files, etc.\n",
    "    \n",
    "    def test_negative1(self): \n",
    "        for x,y in zip(self.correctValues,self.correctOutputs):\n",
    "            self.assertAlmostEqual(sqrt(x),y,3) # equal to 3 decimals\n",
    "            \n",
    "unittest.main(argv=['ignored'], exit=False)"
   ]
  },
  {
   "cell_type": "markdown",
   "metadata": {
    "slideshow": {
     "slide_type": "slide"
    }
   },
   "source": [
    "### Test Drive Development\n",
    "* Always be writing test cases as you develop, use them instead of little tester scripts\n",
    "* Design your software with a view to testability, thinking about how to write tests for each component as you go\n",
    "* Developing test cases is a creative process, but consider what tests are equivalent to others and discard them, and think about testing the edge cases\n",
    "* Test to fail, don't write easy tests just to pass"
   ]
  },
  {
   "cell_type": "markdown",
   "metadata": {
    "slideshow": {
     "slide_type": "slide"
    }
   },
   "source": [
    "## PyCharm\n",
    "* We'll start using the PyCharm IDE now\n",
    "* When you start the program open the directory containing the exercise, this will open that directory as a project\n",
    "* The exercises are given as .py files rather notebooks now.\n",
    "* Running unit tests and code coverage is done through its interface\n",
    "* `unittest` can also be run (from the root of your source file hierarchy) with `python -m unittest`"
   ]
  },
  {
   "cell_type": "markdown",
   "metadata": {
    "slideshow": {
     "slide_type": "slide"
    }
   },
   "source": [
    "# That's it!\n",
    "\n",
    "## Questions?\n",
    "\n",
    "On to practicals..."
   ]
  }
 ],
 "metadata": {
  "celltoolbar": "Slideshow",
  "kernelspec": {
   "display_name": "Python 3",
   "language": "python",
   "name": "python3"
  },
  "language_info": {
   "codemirror_mode": {
    "name": "ipython",
    "version": 3
   },
   "file_extension": ".py",
   "mimetype": "text/x-python",
   "name": "python",
   "nbconvert_exporter": "python",
   "pygments_lexer": "ipython3",
   "version": "3.7.3"
  }
 },
 "nbformat": 4,
 "nbformat_minor": 4
}

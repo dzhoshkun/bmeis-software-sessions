{
 "cells": [
  {
   "cell_type": "markdown",
   "metadata": {},
   "source": [
    "# Drawing the game board\n",
    "\n",
    "This example notebook provides a function `drawGameBoard` for rendering a tic-tac-toe board using matplotlib. This can be used here in Jupyter or with a QtConsole IPython shell. Although not necessary for this practical it is an example of how to use matplotlib to do slightly more interesting things."
   ]
  },
  {
   "cell_type": "code",
   "execution_count": 3,
   "metadata": {},
   "outputs": [],
   "source": [
    "%matplotlib inline\n",
    "import numpy as np\n",
    "import matplotlib.pyplot as plt\n",
    "\n",
    "import tictactoe\n",
    "\n",
    "game=tictactoe.Game(True) # example game"
   ]
  },
  {
   "cell_type": "code",
   "execution_count": 4,
   "metadata": {},
   "outputs": [
    {
     "name": "stdout",
     "output_type": "stream",
     "text": [
      "+-------+\n",
      "| O . . |\n",
      "| X O X |\n",
      "| O . O |\n",
      "+-------+\n"
     ]
    },
    {
     "data": {
      "image/png": "[encoded data removed]",
      "text/plain": [
       "<Figure size 576x576 with 1 Axes>"
      ]
     },
     "metadata": {},
     "output_type": "display_data"
    }
   ],
   "source": [
    "def drawGameBoard(game,facecolor=(1,1,.8),markersize=50,markeredgewidth=20):\n",
    "    \"\"\"\n",
    "    Draw the game board on a figure which is returned with its subplot axis object. This will print\n",
    "    blue exes and red ohs, the size and width defined by `markersize` and `markeredgewidth`.\n",
    "    \"\"\"\n",
    "    fig = plt.figure(figsize=[8,8])\n",
    "    fig.patch.set_facecolor(facecolor)\n",
    "\n",
    "    ax = fig.add_subplot(111)\n",
    "    ax.set_axis_off()\n",
    "    ax.set_title('Tic Tac Toe!')\n",
    "\n",
    "    # draw grid by plotting straight lines\n",
    "    for x in range(4):\n",
    "        ax.plot([x, x], [0,3], 'k') # vertical lines\n",
    "        ax.plot([0, 3], [x,x], 'k') # horizontal lines\n",
    "\n",
    "    # draw the symbols\n",
    "    for i,j in np.ndindex(game.board.shape):\n",
    "        val=game.board[i,j]\n",
    "        \n",
    "        if val in (1,2):\n",
    "            marker='x' if val==1 else 'o'\n",
    "            color='b' if val==1 else 'r'\n",
    "            \n",
    "            _=ax.plot(0.5+i,2.5-j,marker,markersize=markersize, markeredgecolor=color, \n",
    "                      markerfacecolor=facecolor, markeredgewidth=markeredgewidth)\n",
    "            \n",
    "    return fig,ax\n",
    "\n",
    "print(game)\n",
    "_=drawGameBoard(game)"
   ]
  }
 ],
 "metadata": {
  "kernelspec": {
   "display_name": "Python 3",
   "language": "python",
   "name": "python3"
  },
  "language_info": {
   "codemirror_mode": {
    "name": "ipython",
    "version": 3
   },
   "file_extension": ".py",
   "mimetype": "text/x-python",
   "name": "python",
   "nbconvert_exporter": "python",
   "pygments_lexer": "ipython3",
   "version": "3.7.3"
  }
 },
 "nbformat": 4,
 "nbformat_minor": 2
}

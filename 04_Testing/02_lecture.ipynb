{
 "cells": [
  {
   "cell_type": "markdown",
   "metadata": {
    "slideshow": {
     "slide_type": "slide"
    }
   },
   "source": [
    "## <center>BMEIS Workshops</center>\n",
    "\n",
    "# <center>Testing</center>\n",
    "\n",
    "### <center>Eric Kerfoot, Ben Murray, Marc Modat</center>\n",
    "### <center>School of Biomedical Engineering & Imaging Sciences</center>\n",
    "### <center>King's College London</center>"
   ]
  },
  {
   "cell_type": "markdown",
   "metadata": {
    "slideshow": {
     "slide_type": "slide"
    }
   },
   "source": [
    "### What We'll Cover\n",
    "* Types of Test times:\n",
    "  * Unit, Integration, System, Acceptance Tests\n",
    "  \n",
    "* Concepts:\n",
    "  * Logging\n",
    "  * Mocking\n",
    "  * Alpha/beta testing\n",
    "  * White/black box\n",
    "  * Test driven development, test-orientation\n",
    "  \n",
    "* Ways of Testing\n",
    "  * Test cases/units\n",
    "  * Code coverage (statement, branch, condition/decision)\n",
    "  * Static analysis (type checking, lint)"
   ]
  },
  {
   "cell_type": "markdown",
   "metadata": {
    "slideshow": {
     "slide_type": "slide"
    }
   },
   "source": [
    "## Levels of Testing\n",
    "\n",
    "* **Unit Testing**: testing individual components/modules\n",
    "* **Integration Testing**: testing combinations of tested modules\n",
    "* **System Testing**: testing of entire system\n",
    "* **Acceptance Testing**: testing system with realistic data to satisfy users/customers/stakeholders the software acceptably meets specification"
   ]
  },
  {
   "cell_type": "markdown",
   "metadata": {
    "slideshow": {
     "slide_type": "slide"
    }
   },
   "source": [
    "* Different levels show correctness at different scales:\n",
    "  * Unit testing at the low lever of routines/classes/methods\n",
    "  * Integration testing at the system design level\n",
    "  * System testing at the requirements specification level\n",
    "  * Acceptance testing at the user requirements level"
   ]
  },
  {
   "cell_type": "markdown",
   "metadata": {
    "slideshow": {
     "slide_type": "slide"
    }
   },
   "source": [
    "### White vs. Black Box Testing\n",
    "* **White box**: defining tests knowing the implementation details of the thing being tested, stresses ensuring the code is correct\n",
    "* **Black box**: defining tests not knowing the implementation details, stresses ensuring the code meets specification\n",
    "* These make sense in different contexts at different times, white more for unit testing, black for later stages"
   ]
  },
  {
   "cell_type": "markdown",
   "metadata": {
    "slideshow": {
     "slide_type": "slide"
    }
   },
   "source": [
    "### When to Test\n",
    "* Throughout development, always be writing unit tests to maintain confidence in code as it changes\n",
    "* At integration time, continuous integration is about testing the contributions of developers as they are committed\n"
   ]
  },
  {
   "cell_type": "markdown",
   "metadata": {
    "slideshow": {
     "slide_type": "slide"
    }
   },
   "source": [
    "### Continuous Integration\n",
    "* Engineering technique focused around developers committing working code to shared repository at a continuous pace\n",
    "* Key component is automated building, testing, packaging, etc.\n",
    "* Testing is done when code is committed, commit can be rejected if tests fail\n",
    "* Objective is to quickly integration changing, but correct, code "
   ]
  },
  {
   "cell_type": "markdown",
   "metadata": {
    "slideshow": {
     "slide_type": "slide"
    }
   },
   "source": [
    "### End Stage\n",
    "* **Alpha Testing**\n",
    "  * Testing a product not feature complete and very buggy\n",
    "  * Involves developers plus users to discover bugs and test functionality\n",
    "  * Focused on refining features and behaviours\n",
    "* **Beta Testing**\n",
    "  * Testing a product which is feature complete and expected to be ready for deployment soon\n",
    "  * Involves mostly users and public to weed out last bugs\n",
    "  * Focused on final testing and polish before release"
   ]
  },
  {
   "cell_type": "markdown",
   "metadata": {
    "slideshow": {
     "slide_type": "slide"
    }
   },
   "source": [
    "## Testing Techniques\n",
    "* Already seen unit tests, fundamental tool for software development\n",
    "* Code coverage: measuring how much of the source code was used when tests were run\n",
    "* Static analysis: running programs which analyse your code\n",
    "  * Type checking is a form of static analysis in statically-typed languages like C++ or Java\n",
    "  * Programs like `pylint` check for common problems.\n",
    "* Mocking: generating data to simulate real-world data and conditions but in a controlled test environment\n",
    "* Logging: tracking tests, program state, etc. to identify faults"
   ]
  },
  {
   "cell_type": "markdown",
   "metadata": {
    "slideshow": {
     "slide_type": "slide"
    }
   },
   "source": [
    "## Coverage Metrics\n",
    "* How much of the system has been tested?\n",
    "  * Black box: how many requirements have been satisfied\n",
    "  * White box: how many lines/branches/conditions/decisions in the code have been executed by the tests\n",
    "* We'll focus on code coverage using `coverage.py` library"
   ]
  },
  {
   "cell_type": "markdown",
   "metadata": {
    "slideshow": {
     "slide_type": "slide"
    }
   },
   "source": [
    "## Code Coverage\n",
    "* When running tests, we want to know which lines of code were actually run\n",
    "* Ideally we want to run all lines of code when running a full test suite, shows whole program was tested\n",
    "* `coverage.py` runs our tests and keeps track of these lines"
   ]
  },
  {
   "cell_type": "markdown",
   "metadata": {
    "slideshow": {
     "slide_type": "slide"
    }
   },
   "source": [
    "### Example: Sqrt Again"
   ]
  },
  {
   "cell_type": "code",
   "execution_count": 4,
   "metadata": {
    "slideshow": {
     "slide_type": "fragment"
    }
   },
   "outputs": [],
   "source": [
    "### sqrt.py \n",
    "def sqrt(a):\n",
    "    if a<0:\n",
    "        raise ValueError('Negative value for `a`')\n",
    "    if isinstance(a,complex):\n",
    "        raise ValueError('Complex value for `a`')\n",
    "    return a ** 0.5"
   ]
  },
  {
   "cell_type": "code",
   "execution_count": 5,
   "metadata": {
    "slideshow": {
     "slide_type": "fragment"
    }
   },
   "outputs": [],
   "source": [
    "### testsqrt.py\n",
    "import sqrt, unittest\n",
    "\n",
    "class SqrtTests(unittest.TestCase):\n",
    "    def test_correct1(self):\n",
    "        b=sqrt.sqrt(0)\n",
    "        self.assertEqual(b,0)\n",
    "    def test_negative1(self): \n",
    "        with self.assertRaises(ValueError):\n",
    "            b=sqrt.sqrt(-4)"
   ]
  },
  {
   "cell_type": "markdown",
   "metadata": {
    "slideshow": {
     "slide_type": "slide"
    }
   },
   "source": [
    "```bash\n",
    "$ coverage run --source . -m unittest\n",
    "..\n",
    "----------------------------------------------------------------------\n",
    "Ran 2 tests in 0.000s\n",
    "\n",
    "OK\n",
    "\n",
    "$ coverage report -m\n",
    "Name          Stmts   Miss  Cover   Missing\n",
    "-------------------------------------------\n",
    "sqrt.py           6      1    83%   6\n",
    "testsqrt.py       9      0   100%\n",
    "-------------------------------------------\n",
    "TOTAL            15      1    93%\n",
    "```"
   ]
  },
  {
   "cell_type": "markdown",
   "metadata": {
    "slideshow": {
     "slide_type": "slide"
    }
   },
   "source": [
    "### What that gives us\n",
    "* This showed which lines were executed during tests\n",
    "* Lines in conditional blocks where condition wasn't met are not executed\n",
    "* How do we know what if-elif-else clauses were evaluated to True or False?\n",
    "* Need more in-depth metrics including condition/decision coverage, branch coverage"
   ]
  },
  {
   "cell_type": "markdown",
   "metadata": {
    "slideshow": {
     "slide_type": "slide"
    }
   },
   "source": [
    "## Static Analysis\n",
    "* Analyse code to identify issues and errors before runtime\n",
    "* Static typing is a form of this, identify type-related errors\n",
    "* Static types can be declared in Python, interpreter does not check them however\n",
    "* PyCharm does:"
   ]
  },
  {
   "cell_type": "code",
   "execution_count": null,
   "metadata": {
    "slideshow": {
     "slide_type": "fragment"
    }
   },
   "outputs": [],
   "source": [
    "### typetest.py\n",
    "def sqrttyped(a:float)->float:\n",
    "    return a**0.5\n",
    "\n",
    "sqrttyped(4.0)\n",
    "sqrttyped(4+2j) # <- \"Expected type 'float', got 'complex' instead\""
   ]
  },
  {
   "cell_type": "markdown",
   "metadata": {
    "slideshow": {
     "slide_type": "slide"
    }
   },
   "source": [
    "* Another tool `mypy` can be used to do this too:\n",
    "```bash\n",
    "$ mypy typetest.py \n",
    "typetest.py:6: error: Argument 1 to \"sqrttyped\" has incompatible type \"complex\"; expected \"float\"\n",
    "Found 1 error in 1 file (checked 1 source file)\n",
    "```"
   ]
  },
  {
   "cell_type": "markdown",
   "metadata": {
    "slideshow": {
     "slide_type": "slide"
    }
   },
   "source": [
    "### Pylint\n",
    "* `pylint` is a program in the style of `lint` which checks for issues\n",
    "* Checks for style, infers errors, finds misplaced or unreachable statements, etc.\n",
    "* Identifies some code smells (code exhibiting bad form known to be sources of error), eg. too many variables or arguments"
   ]
  },
  {
   "cell_type": "markdown",
   "metadata": {
    "slideshow": {
     "slide_type": "slide"
    }
   },
   "source": [
    "```bash\n",
    "$ pylint typetest.py \n",
    "************* Module typetest\n",
    "typetest.py:2:15: C0326: Exactly one space required after :\n",
    "def sqrttyped(a:float=None)->float:\n",
    "               ^ (bad-whitespace)\n",
    "typetest.py:2:21: C0326: Exactly one space required around keyword argument assignment\n",
    "def sqrttyped(a:float=None)->float:\n",
    "                     ^ (bad-whitespace)\n",
    "typetest.py:1:0: C0111: Missing module docstring (missing-docstring)\n",
    "...\n",
    "```"
   ]
  },
  {
   "cell_type": "markdown",
   "metadata": {
    "slideshow": {
     "slide_type": "slide"
    }
   },
   "source": [
    "## Mocking\n",
    "* During testing, replace components which provide services or generate data with test versions \n",
    "* These produce known results in a simpler and faster way\n",
    "* Provides known ground truths to compare results against"
   ]
  },
  {
   "cell_type": "markdown",
   "metadata": {
    "slideshow": {
     "slide_type": "slide"
    }
   },
   "source": [
    "## Logging\n",
    "* Record what the program is doing at certain stages\n",
    "* During testing, used to record state, input data, errors encountered, to produce history leading up to a fault\n",
    "* Stack tracing (logging executing lines) during testing also useful\n",
    "* Python's `logging` library used for this\n",
    "  * Data is logged at different levels (`CRITICAL, ERROR, WARNING, INFO, DEBUG`)\n",
    "  * Log level can be set to turn logging this information on or off, ie. everyone during test, off in production"
   ]
  },
  {
   "cell_type": "markdown",
   "metadata": {
    "slideshow": {
     "slide_type": "slide"
    }
   },
   "source": [
    "## Continuous Integration\n",
    "* Development process of rapidly (multiple times daily) integrating collaborators' changes into the live code base\n",
    "* Done in conjunction with code versioning systems (git), often integrates testing and validation steps\n",
    "* Often automated through web services or local servers\n",
    "* Testing is critical to ensure commits do not break the code base"
   ]
  },
  {
   "cell_type": "markdown",
   "metadata": {
    "slideshow": {
     "slide_type": "slide"
    }
   },
   "source": [
    "* Idea is support multiple people working on the same code, rapid prototyping, automated building and deployment, agile development processes\n",
    "* To ensure code remains functional automated checks are necessary, too much burden to be done manually\n",
    "* Testing is a key component, unit and integration tests concretely define correctness throughout integration\n",
    "* Developers can confidently modify whole parts of the system without breaking functionality"
   ]
  },
  {
   "cell_type": "markdown",
   "metadata": {
    "slideshow": {
     "slide_type": "slide"
    }
   },
   "source": [
    "* Part of bigger software lifecycle picture:\n",
    "  * Continuous delivery: Providing software to clients regularly (nightly builds), new version constantly available with expectation of being fit for purpose\n",
    "  * Continuous deployment: Providing service-implementing software to host continually, usually systems of multiple moving parts, eg. web services and huge server/multi-node/cloud applications\n",
    "* For us, CI helps everything we do collaboratively, everything else is for production"
   ]
  },
  {
   "cell_type": "markdown",
   "metadata": {
    "slideshow": {
     "slide_type": "slide"
    }
   },
   "source": [
    "## CI With Github, Gitlab, etc.\n",
    "* Code hosting sites like these can integrate services to do CI \n",
    "* Provides host servers to setup hosting environments, build code in multiple different environments, run test scripts, etc.\n",
    "* Failed test runs can be used to prevent integration of bad commits"
   ]
  },
  {
   "cell_type": "markdown",
   "metadata": {
    "slideshow": {
     "slide_type": "slide"
    }
   },
   "source": [
    "## Example: Github+Travis\n",
    "* We will setup a test repo on Github and test committed code using Travis:\n",
    "  1. Go to https://github.com and sign up if you haven't\n",
    "  2. Create a new repo called `CITest`\n",
    "  3. On your local machine checkout `CITest`\n",
    "  4. Copy the .py files from directory `01_solution` into `CITest`, add them to the repo and commit"
   ]
  },
  {
   "cell_type": "markdown",
   "metadata": {
    "slideshow": {
     "slide_type": "slide"
    }
   },
   "source": [
    "* Next operation is to sign up for Travis which will link it to your Github account, follow instructions at https://docs.travis-ci.com/user/tutorial/ except your `.travis.yml` should be:\n",
    "  \n",
    "```yaml\n",
    "language: python\n",
    "python:\n",
    "  - 3.7\n",
    "  - 3.8\n",
    "script:\n",
    "  - python -m unittest test_interval.py\n",
    "\n",
    "```"
   ]
  },
  {
   "cell_type": "markdown",
   "metadata": {
    "slideshow": {
     "slide_type": "slide"
    }
   },
   "source": [
    "* Once you commit a build will be triggered (or shortly after)\n",
    "* Go to the Travis status page to see the build happen: https://travis-ci.com/auth\n",
    "* What Travis does is setup an environment as specified in the `.travis.yml` file then perform the actions it states, in our case just run the unit tests\n",
    "* Events other than committing can be used to trigger builds"
   ]
  },
  {
   "cell_type": "markdown",
   "metadata": {
    "slideshow": {
     "slide_type": "slide"
    }
   },
   "source": [
    "* Other rules exist for building in certain conditions, running multiple types of jobs to do other analysis or testing, etc.\n",
    "* Github can integrate the results to indicate if a commit or pull request should be disallowed\n",
    "* Try breaking one of the unit tests so that the build fails and see what happens"
   ]
  },
  {
   "cell_type": "markdown",
   "metadata": {
    "slideshow": {
     "slide_type": "slide"
    }
   },
   "source": [
    "* Many other providers of services (not limited to CI building) can be linked through Github\n",
    "* Gitlab can be linked to Github accounts and it includes its own CI build tools\n",
    "* This allows a build on a Gitlab mirror of a Github account to be accessible in Github\n"
   ]
  },
  {
   "cell_type": "markdown",
   "metadata": {
    "slideshow": {
     "slide_type": "slide"
    }
   },
   "source": [
    "# That's it!\n",
    "\n",
    "## Questions?\n",
    "\n",
    "On to practicals..."
   ]
  }
 ],
 "metadata": {
  "celltoolbar": "Slideshow",
  "kernelspec": {
   "display_name": "Python 3",
   "language": "python",
   "name": "python3"
  },
  "language_info": {
   "codemirror_mode": {
    "name": "ipython",
    "version": 3
   },
   "file_extension": ".py",
   "mimetype": "text/x-python",
   "name": "python",
   "nbconvert_exporter": "python",
   "pygments_lexer": "ipython3",
   "version": "3.7.3"
  }
 },
 "nbformat": 4,
 "nbformat_minor": 4
}
